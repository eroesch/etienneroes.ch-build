{
 "cells": [
  {
   "cell_type": "markdown",
   "metadata": {},
   "source": [
    "Write your post here."
   ]
  }
 ],
 "metadata": {
  "kernelspec": {
   "display_name": "Python 3",
   "env": {},
   "language": "python",
   "name": "python3"
  },
  "nikola": {
   "category": "",
   "date": "2016-04-22 17:29:17 UTC+01:00",
   "description": "",
   "link": "",
   "slug": "hmmm",
   "tags": "",
   "title": "Hmmm...",
   "type": "text"
  }
 },
 "nbformat": 4,
 "nbformat_minor": 0
}
