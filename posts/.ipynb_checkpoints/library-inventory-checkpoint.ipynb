{
 "cells": [
  {
   "cell_type": "markdown",
   "metadata": {},
   "source": [
    "| Book title    | Who?          | When?  |\n",
    "| ------------- |:-------------:| :-----:|\n",
    "| Entrepreneurship for dummies | Timothee | 2015/03 |\n",
    "| Gazzaniga et al. (2008). Cognitive Neuroscience: The Biology of the Mind | Inge | 2016/04/26 |\n",
    "| Hess (1931). The glass bead game | Timothee | 2014 |\n",
    "| Stroud (2005). Engineering mathematics | Catriona | 2016/03 |\n",
    "| Varela et al. (1997). The embodied mind | Catriona | 2015/03 |\n"
   ]
  }
 ],
 "metadata": {
  "kernelspec": {
   "display_name": "Python 2",
   "language": "python",
   "name": "python2"
  },
  "language_info": {
   "codemirror_mode": {
    "name": "ipython",
    "version": 2
   },
   "file_extension": ".py",
   "mimetype": "text/x-python",
   "name": "python",
   "nbconvert_exporter": "python",
   "pygments_lexer": "ipython2",
   "version": "2.7.11"
  },
  "nikola": {
   "category": "",
   "date": "2016-05-03 21:02:07 UTC+01:00",
   "description": "",
   "link": "",
   "slug": "library-inventory",
   "tags": "Maintenance,Books",
   "title": "Library inventory",
   "type": "text"
  }
 },
 "nbformat": 4,
 "nbformat_minor": 0
}
