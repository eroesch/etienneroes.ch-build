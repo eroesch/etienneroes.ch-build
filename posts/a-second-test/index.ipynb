{
 "cells": [
  {
   "cell_type": "markdown",
   "metadata": {},
   "source": [
    "Write your post here."
   ]
  }
 ],
 "metadata": {
  "kernelspec": {
   "display_name": "Python 3",
   "language": "python",
   "name": "python3"
  },
  "language_info": {
   "codemirror_mode": {
    "name": "ipython",
    "version": 3
   },
   "file_extension": ".py",
   "mimetype": "text/x-python",
   "name": "python",
   "nbconvert_exporter": "python",
   "pygments_lexer": "ipython3",
   "version": "3.5.1"
  },
  "nikola": {
   "category": "",
   "date": "2016-04-22 16:56:46 UTC+01:00",
   "description": "",
   "link": "",
   "slug": "a-second-test",
   "tags": "",
   "title": "A second test",
   "type": "text"
  }
 },
 "nbformat": 4,
 "nbformat_minor": 0
}
