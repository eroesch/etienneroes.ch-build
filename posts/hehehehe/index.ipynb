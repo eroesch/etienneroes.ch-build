{
 "cells": [
  {
   "cell_type": "markdown",
   "metadata": {},
   "source": [
    "Write your post here."
   ]
  }
 ],
 "metadata": {
  "kernelspec": {
   "display_name": "Python 2",
   "language": "python",
   "name": "python2"
  },
  "language_info": {
   "codemirror_mode": {
    "name": "ipython",
    "version": 2
   },
   "file_extension": ".py",
   "mimetype": "text/x-python",
   "name": "python",
   "nbconvert_exporter": "python",
   "pygments_lexer": "ipython2",
   "version": "2.7.11"
  },
  "nikola": {
   "category": "",
   "date": "2016-04-23 22:22:19 UTC+01:00",
   "description": "",
   "link": "",
   "slug": "hehehehe",
   "tags": "test,draft",
   "title": "Hehehehe",
   "type": "text"
  }
 },
 "nbformat": 4,
 "nbformat_minor": 0
}
