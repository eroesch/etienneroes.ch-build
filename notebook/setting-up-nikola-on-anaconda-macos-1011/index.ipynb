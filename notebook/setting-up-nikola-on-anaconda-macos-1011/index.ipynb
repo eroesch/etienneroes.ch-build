{
 "cells": [
  {
   "cell_type": "code",
   "execution_count": null,
   "metadata": {
    "collapsed": true
   },
   "outputs": [],
   "source": [
    "conda create --name python3-nikola python=3\n",
    "source activate python3-nikola\n",
    "conda install ipython-notebook"
   ]
  },
  {
   "cell_type": "code",
   "execution_count": null,
   "metadata": {
    "collapsed": true
   },
   "outputs": [],
   "source": [
    "xcode-select --install\n",
    "export EDITOR=/Users/etienneroesch/anaconda/envs/python3-nikola/bin/jupyter-notebook"
   ]
  },
  {
   "cell_type": "code",
   "execution_count": null,
   "metadata": {
    "collapsed": true
   },
   "outputs": [],
   "source": [
    "conda install anaconda-client\n",
    "anaconda search -t conda nikola\n",
    "anaconda show asmeurer/nikola\n",
    "conda install --channel https://conda.anaconda.org/asmeurer nikola"
   ]
  },
  {
   "cell_type": "code",
   "execution_count": null,
   "metadata": {
    "collapsed": true
   },
   "outputs": [],
   "source": [
    "conda install webassets"
   ]
  },
  {
   "cell_type": "code",
   "execution_count": null,
   "metadata": {
    "collapsed": true
   },
   "outputs": [],
   "source": [
    "nikola init --demo mysite\n",
    "cd mysite\n",
    "nikola install_theme zen-ipython\n",
    "nikola install_theme zen-jinja"
   ]
  },
  {
   "cell_type": "code",
   "execution_count": null,
   "metadata": {
    "collapsed": true
   },
   "outputs": [],
   "source": [
    "Contents of the conf.py.sample file:\n",
    "\n",
    "    NAVIGATION_LINKS = {\n",
    "        DEFAULT_LANG: (\n",
    "            ('/index.html', 'Home', 'icon-home'),\n",
    "            ('/archive.html', 'Archives', 'icon-folder-open-alt'),\n",
    "            ('/categories/index.html', 'Tags', 'icon-tags'),\n",
    "            ('/rss.xml', 'RSS', 'icon-rss'),\n",
    "            ('https://getnikola.com', 'About me', 'icon-user'),\n",
    "            ('https://twitter.com/getnikola', 'My Twitter', 'icon-twitter'),\n",
    "            ('https://github.com/getnikola', 'My Github', 'icon-github'),\n",
    "        )\n",
    "    }\n",
    "\n",
    "[2016-04-23T22:08:39Z] NOTICE: install_theme: Remember to set THEME=\"zen-ipython\" in conf.py to use this theme.\n",
    "\n",
    "POSTS = (\n",
    "    (\"posts/*.ipynb\", \"posts\", \"post.tmpl\"),\n",
    "    (\"posts/*.txt\", \"posts\", \"post.tmpl\"),\n",
    "    (\"posts/*.rst\", \"posts\", \"post.tmpl\"),\n",
    ")\n",
    "PAGES = (\n",
    "    (\"stories/*.ipynb\", \"stories\", \"story.tmpl\"),\n",
    "    (\"stories/*.txt\", \"stories\", \"story.tmpl\"),\n",
    "    (\"stories/*.rst\", \"stories\", \"story.tmpl\"),\n",
    ")"
   ]
  },
  {
   "cell_type": "code",
   "execution_count": null,
   "metadata": {
    "collapsed": true
   },
   "outputs": [],
   "source": [
    "conda install numpy\n",
    "conda install matplotlib"
   ]
  },
  {
   "cell_type": "code",
   "execution_count": null,
   "metadata": {
    "collapsed": true
   },
   "outputs": [],
   "source": [
    "nikola new_post -e -f ipynb --tags=setup"
   ]
  },
  {
   "cell_type": "code",
   "execution_count": null,
   "metadata": {
    "collapsed": true
   },
   "outputs": [],
   "source": [
    "%matplotlib inline\n",
    "import matplotlib.pyplot as plt\n",
    "\n",
    "fig1 = plt.figure()\n",
    "# Make a legend for specific lines.\n",
    "import matplotlib.pyplot as plt\n",
    "import numpy as np\n",
    "\n",
    "\n",
    "t1 = np.arange(0.0, 2.0, 0.1)\n",
    "t2 = np.arange(0.0, 2.0, 0.01)\n",
    "\n",
    "# note that plot returns a list of lines.  The \"l1, = plot\" usage\n",
    "# extracts the first element of the list into l1 using tuple\n",
    "# unpacking.  So l1 is a Line2D instance, not a sequence of lines\n",
    "l1, = plt.plot(t2, np.exp(-t2))\n",
    "l2, l3 = plt.plot(t2, np.sin(2 * np.pi * t2), '--go', t1, np.log(1 + t1), '.')\n",
    "l4, = plt.plot(t2, np.exp(-t2) * np.sin(2 * np.pi * t2), 'rs-.')\n",
    "\n",
    "plt.xlabel('time')\n",
    "plt.ylabel('volts')\n",
    "plt.title('Damped oscillation')\n",
    "\n",
    "plt.show()"
   ]
  }
 ],
 "metadata": {
  "kernelspec": {
   "display_name": "Python 2",
   "language": "python",
   "name": "python2"
  },
  "language_info": {
   "codemirror_mode": {
    "name": "ipython",
    "version": 2
   },
   "file_extension": ".py",
   "mimetype": "text/x-python",
   "name": "python",
   "nbconvert_exporter": "python",
   "pygments_lexer": "ipython2",
   "version": "2.7.11"
  }
 },
 "nbformat": 4,
 "nbformat_minor": 0
}
