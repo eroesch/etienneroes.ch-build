{
 "cells": [
  {
   "cell_type": "markdown",
   "metadata": {},
   "source": [
    "Write your post here."
   ]
  }
 ],
 "metadata": {
  "kernelspec": {
   "display_name": "Python 3",
   "env": {},
   "language": "python",
   "name": "python3"
  },
  "nikola": {
   "category": "",
   "date": "2016-04-22 17:45:34 UTC+01:00",
   "description": "",
   "link": "",
   "slug": "haha",
   "tags": "",
   "title": "Haha!",
   "type": "text"
  }
 },
 "nbformat": 4,
 "nbformat_minor": 0
}
