{
 "cells": [
  {
   "cell_type": "markdown",
   "metadata": {},
   "source": [
    "Write your post here."
   ]
  }
 ],
 "metadata": {
  "kernelspec": {
   "display_name": "Python 3",
   "env": {},
   "language": "python",
   "name": "python3"
  },
  "nikola": {
   "category": "",
   "date": "2016-06-15 21:16:45 UTC+01:00",
   "description": "",
   "link": "",
   "slug": "python-for-neuroimaging",
   "tags": "draft",
   "title": "Python for neuroimaging",
   "type": "text"
  }
 },
 "nbformat": 4,
 "nbformat_minor": 0
}
