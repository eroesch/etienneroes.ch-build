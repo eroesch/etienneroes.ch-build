{
 "cells": [
  {
   "cell_type": "markdown",
   "metadata": {},
   "source": [
    "| Book title    | Who?          | When?  |\n",
    "| ------------- |:-------------:| :-----:|\n",
    "| Gazzaniga et al. (2008). Cognitive Neuroscience: The Biology of the Mind | Inge | 2016/04/26 |\n",
    "| Hess (1931). The glass bead game | Timothee | 2014 |\n",
    "| Stroud (2005). Engineering mathematics | Catriona | 2016/03 |\n",
    "| Varela et al. (1997). The embodied mind | Catriona | 2015/03 |\n"
   ]
  },
  {
   "cell_type": "code",
   "execution_count": null,
   "metadata": {
    "collapsed": true
   },
   "outputs": [],
   "source": []
  }
 ],
 "metadata": {
  "kernelspec": {
   "display_name": "Python 3",
   "language": "python",
   "name": "python3"
  },
  "language_info": {
   "codemirror_mode": {
    "name": "ipython",
    "version": 3
   },
   "file_extension": ".py",
   "mimetype": "text/x-python",
   "name": "python",
   "nbconvert_exporter": "python",
   "pygments_lexer": "ipython3",
   "version": "3.5.1"
  }
 },
 "nbformat": 4,
 "nbformat_minor": 0
}
